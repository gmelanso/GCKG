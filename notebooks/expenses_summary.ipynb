{
 "cells": [
  {
   "cell_type": "markdown",
   "metadata": {},
   "source": [
    "# Parliamentary Expenditures\n",
    "This notebook assesses the quarterly expenditure reports by Members of Canadian Parliament under Members' Allowances and Services between 2020-2023.\n"
   ]
  },
  {
   "cell_type": "code",
   "execution_count": 2,
   "metadata": {},
   "outputs": [],
   "source": [
    "import os\n",
    "import pandas as pd\n",
    "\n",
    "import pandas as pd\n",
    "\n",
    "def count_distinct_values(df, column_name):\n",
    "    # Group by the specified column and count occurrences\n",
    "    counts = df.groupby(column_name).size().reset_index(name='count')\n",
    "    return counts\n"
   ]
  },
  {
   "cell_type": "code",
   "execution_count": null,
   "metadata": {},
   "outputs": [],
   "source": [
    "df= pd.read_csv(\"entities/csv/Expenditure.csv\")\n",
    "\n",
    "count_distinct_values(df, )"
   ]
  }
 ],
 "metadata": {
  "kernelspec": {
   "display_name": "base",
   "language": "python",
   "name": "python3"
  },
  "language_info": {
   "codemirror_mode": {
    "name": "ipython",
    "version": 3
   },
   "file_extension": ".py",
   "mimetype": "text/x-python",
   "name": "python",
   "nbconvert_exporter": "python",
   "pygments_lexer": "ipython3",
   "version": "3.10.6"
  }
 },
 "nbformat": 4,
 "nbformat_minor": 2
}
